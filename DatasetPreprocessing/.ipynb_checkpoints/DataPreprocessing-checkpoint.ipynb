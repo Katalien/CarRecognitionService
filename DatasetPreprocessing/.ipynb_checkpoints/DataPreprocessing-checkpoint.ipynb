{
 "cells": [
  {
   "cell_type": "code",
   "execution_count": 15,
   "id": "825b53c7-2ddd-404f-94c1-9e0f008eea38",
   "metadata": {},
   "outputs": [],
   "source": [
    "import csv\n",
    "import os\n",
    "import cv2\n",
    "import random\n",
    "import shutil\n",
    "from math import floor"
   ]
  },
  {
   "cell_type": "markdown",
   "id": "d9bae4e3-d3e7-4dee-809f-bba4f9a4afdc",
   "metadata": {},
   "source": [
    "## Class for sample (image and labels) and labels bounding box"
   ]
  },
  {
   "cell_type": "code",
   "execution_count": null,
   "id": "6d6e8537-70cd-4764-9266-399b2ac240cc",
   "metadata": {},
   "outputs": [],
   "source": [
    "class BoundingBox:\n",
    "    def __init__(self, x_min: float, y_min: float, x_max: float, y_max: float):\n",
    "        self.x_min = x_min\n",
    "        self.x_max = x_max\n",
    "        self.y_min = y_min\n",
    "        self.y_max = y_max\n",
    "\n",
    "    def get_bb_coordinates(self):\n",
    "        return (self.x_min, self.y_min), (self.x_max, self.y_max)\n",
    "\n",
    "class Sample:\n",
    "    def __init__(self, image_filepath: str):\n",
    "        self.image_path = image_filepath\n",
    "        self.bb_list = []\n",
    "\n",
    "    def add_bb(self, x_min: float, y_min: float, x_max: float, y_max: float):\n",
    "        self.bb_list.append(BoundingBox(x_min, y_min, x_max, y_max))"
   ]
  },
  {
   "cell_type": "markdown",
   "id": "f52225b9-3aca-40b5-92db-7a9f9c154390",
   "metadata": {},
   "source": [
    "## Parse csv file for processing labels"
   ]
  },
  {
   "cell_type": "code",
   "execution_count": 10,
   "id": "bf2d9beb-cb50-4191-9a7a-1d186af2cc9a",
   "metadata": {},
   "outputs": [],
   "source": [
    "def get_all_samples(label_csv_path):\n",
    "    samples_dict = {}\n",
    "    with open(labels_csv_path, newline='') as csvfile:\n",
    "        spamreader = csv.reader(csvfile, delimiter=' ', quotechar='|')\n",
    "        for i, row in enumerate(spamreader):\n",
    "            if i == 0:\n",
    "                continue\n",
    "            row = ', '.join(row)\n",
    "            row_items = row.split(',')\n",
    "            image_path = os.path.join(images_path, row_items[0])\n",
    "            if image_path in samples_dict:\n",
    "                sample = samples_dict[image_path]\n",
    "            else:\n",
    "                sample = Sample(image_filepath=image_path)\n",
    "\n",
    "            sample.add_bb(x_min=float(row_items[1]),\n",
    "                          y_min=float(row_items[2]),\n",
    "                          x_max=float(row_items[3]),\n",
    "                          y_max=float(row_items[4]))\n",
    "            samples_dict[image_path] = sample\n",
    "    return samples_dict"
   ]
  },
  {
   "cell_type": "markdown",
   "id": "a86bf86a-ae22-427e-8fc4-fd278bc7913b",
   "metadata": {},
   "source": [
    "## Convert coordinates for YOLO format"
   ]
  },
  {
   "cell_type": "code",
   "execution_count": 4,
   "id": "b40aea8f-c469-4fc3-a30f-40ccd7fec321",
   "metadata": {},
   "outputs": [],
   "source": [
    "def normalize_coordinate(value, dimension):\n",
    "    return value / dimension\n",
    "\n",
    "def convert2orig_coordinates(value, dimension):\n",
    "    return value * dimension"
   ]
  },
  {
   "cell_type": "code",
   "execution_count": 5,
   "id": "7ed43c1e-da8a-4d3f-8498-9967c34fb77f",
   "metadata": {},
   "outputs": [],
   "source": [
    "def convert_coordinates(min_point, max_point, height, width):\n",
    "    x_center = (min_point[0] + max_point[0]) / 2\n",
    "    y_center = (min_point[1] + max_point[1]) / 2\n",
    "    box_width = max_point[0] - min_point[0]\n",
    "    box_height = max_point[1] - min_point[1]\n",
    "\n",
    "    x_center_normal = normalize_coordinate(x_center, width)\n",
    "    y_center_normal = normalize_coordinate(y_center, height)\n",
    "    box_width_normal = normalize_coordinate(box_width, width)\n",
    "    box_height_normal = normalize_coordinate(box_height, height)\n",
    "    return x_center_normal, y_center_normal, box_height_normal, box_width_normal\n",
    "\n",
    "def convert2yolo_format(samples_dict, save_path):\n",
    "    class_label = \"0\"\n",
    "    for path, sample in samples_dict.items():\n",
    "        print(path, len(sample.bb_list))\n",
    "        image_name = sample.image_path.split(\"/\")[-1].split(\".\")[0]\n",
    "        image_path = sample.image_path\n",
    "        image = cv2.imread(image_path)\n",
    "        height, width = image.shape[0:2]\n",
    "\n",
    "        with open(f\"{save_path}{image_name}.txt\", \"a\") as label_file:\n",
    "            for bb in sample.bb_list:\n",
    "                min_point, max_point = bb.get_bb_coordinates()\n",
    "                xc_normal, yc_normal, h_normal, w_normal = convert_coordinates(min_point, max_point, height, width)\n",
    "\n",
    "                print(f\"{class_label} \"\n",
    "                      f\"{xc_normal} \"\n",
    "                      f\"{yc_normal} \"\n",
    "                      f\"{w_normal} \"\n",
    "                      f\"{h_normal}\", file=label_file)"
   ]
  },
  {
   "cell_type": "markdown",
   "id": "caa60083-5033-4080-9ab9-55cf3caebbf4",
   "metadata": {},
   "source": [
    "## Test one sample with YOLO format labels"
   ]
  },
  {
   "cell_type": "code",
   "execution_count": 7,
   "id": "e4e2b250-d096-48fa-b91f-c60d97231022",
   "metadata": {},
   "outputs": [],
   "source": [
    "def check_one_sample(samples_dict, labels_path):\n",
    "    random_sample = random.choice(list(samples_dict.values()))\n",
    "    name = random_sample.image_path.split(\"/\")[-1].split(\".\")[0]\n",
    "\n",
    "    image = cv2.imread(random_sample.image_path)\n",
    "    height, width = image.shape[:2]\n",
    "\n",
    "    label_path = f\"{labels_path}{name}.txt\"\n",
    "    with open(label_path, \"r\") as label_file:\n",
    "        lines = label_file.readlines()\n",
    "\n",
    "    for line in lines:\n",
    "        points = line.strip().split(\" \")[1:]\n",
    "        x_center_norm, y_center_norm, box_width_norm, box_height_norm = map(float, points)\n",
    "\n",
    "        x_center = int(x_center_norm * width)\n",
    "        y_center = int(y_center_norm * height)\n",
    "        box_width = int(box_width_norm * width)\n",
    "        box_height = int(box_height_norm * height)\n",
    "\n",
    "        x_min = int(x_center - box_width / 2)\n",
    "        y_min = int(y_center - box_height / 2)\n",
    "        x_max = int(x_center + box_width / 2)\n",
    "        y_max = int(y_center + box_height / 2)\n",
    "\n",
    "        cv2.rectangle(image, (x_min, y_min), (x_max, y_max), (0, 255, 0), 2)\n",
    "\n",
    "    cv2.imshow('test image to check', image)\n",
    "    cv2.waitKey(0)\n",
    "    cv2.destroyAllWindows()"
   ]
  },
  {
   "cell_type": "markdown",
   "id": "158138b9-865d-4188-84ee-a75e9b6656fb",
   "metadata": {},
   "source": [
    "## Split dataset on train/test/val"
   ]
  },
  {
   "cell_type": "code",
   "execution_count": 18,
   "id": "e2fafac5-3385-42a5-a957-f8ddbe7722ca",
   "metadata": {},
   "outputs": [],
   "source": [
    "def copy_files(file_list, subset_dir, images_dir, labels_dir):\n",
    "    for file in file_list:\n",
    "        image_path = os.path.join(images_dir, file)\n",
    "        label_path = os.path.join(labels_dir, os.path.splitext(file)[0] + '.txt')\n",
    "\n",
    "        shutil.copy(image_path, os.path.join(subset_dir, 'images', file))\n",
    "        if os.path.exists(label_path):\n",
    "            shutil.copy(label_path, os.path.join(subset_dir, 'labels', os.path.basename(label_path)))\n",
    "\n",
    "def split_dataset(images_dir, labels_dir, output_dir):\n",
    "    train_dir = os.path.join(output_dir, 'train')\n",
    "    val_dir = os.path.join(output_dir, 'val')\n",
    "    test_dir = os.path.join(output_dir, 'test')\n",
    "\n",
    "    for cur_dir in [train_dir, val_dir, test_dir]:\n",
    "        os.makedirs(os.path.join(cur_dir, 'images'), exist_ok=True)\n",
    "        os.makedirs(os.path.join(cur_dir, 'labels'), exist_ok=True)\n",
    "\n",
    "\n",
    "    images_files = [f for f in os.listdir(images_dir)]\n",
    "    random.shuffle(images_files)\n",
    "\n",
    "    general_size = len(images_files)\n",
    "    train_size = floor(0.7 * general_size)\n",
    "    val_size = floor(0.15 * general_size)\n",
    "    test_size = general_size - train_size - val_size\n",
    "\n",
    "    train_files = images_files[:train_size]\n",
    "    val_files = images_files[train_size:train_size + val_size]\n",
    "    test_files = images_files[train_size + val_size:]\n",
    "    \n",
    "    copy_files(train_files, train_dir, images_dir, labels_dir)\n",
    "    copy_files(val_files, val_dir, images_dir, labels_dir)\n",
    "    copy_files(test_files, test_dir, images_dir, labels_dir)\n",
    "\n",
    "    print(f\"Train: {len(train_files)} images\")\n",
    "    print(f\"Valid: {len(val_files)} images\")\n",
    "    print(f\"Test: {len(test_files)} images\")\n"
   ]
  },
  {
   "cell_type": "markdown",
   "id": "816d1161-9491-4d05-8078-46073b39dca7",
   "metadata": {},
   "source": [
    "## RUN"
   ]
  },
  {
   "cell_type": "code",
   "execution_count": 19,
   "id": "e5df3ed4-98f4-4fd9-979e-20ffc040f7b5",
   "metadata": {},
   "outputs": [
    {
     "name": "stdout",
     "output_type": "stream",
     "text": [
      "Train: 700 images\n",
      "Valid: 150 images\n",
      "Test: 151 images\n"
     ]
    }
   ],
   "source": [
    "dataset_path = \"../data/\"\n",
    "images_path = f\"{dataset_path}images/\"\n",
    "labels_csv_path = f\"{dataset_path}labels.csv\"\n",
    "labels_yolo_path = f\"{dataset_path}labels/\"\n",
    "split_dataset_path = \"../data/dataset/\"\n",
    "\n",
    "samples_dict = get_all_samples(labels_csv_path)\n",
    "# convert2yolo_format(samples_dict, labels_save_path)\n",
    "# check_one_sample(samples_dict, labels_save_path)\n",
    "split_dataset(images_path, labels_yolo_path, split_dataset_path)"
   ]
  },
  {
   "cell_type": "code",
   "execution_count": null,
   "id": "1c1b707c-979d-4817-8bed-1e135c3564f4",
   "metadata": {},
   "outputs": [],
   "source": []
  }
 ],
 "metadata": {
  "kernelspec": {
   "display_name": "Python 3 (ipykernel)",
   "language": "python",
   "name": "python3"
  },
  "language_info": {
   "codemirror_mode": {
    "name": "ipython",
    "version": 3
   },
   "file_extension": ".py",
   "mimetype": "text/x-python",
   "name": "python",
   "nbconvert_exporter": "python",
   "pygments_lexer": "ipython3",
   "version": "3.10.7"
  }
 },
 "nbformat": 4,
 "nbformat_minor": 5
}
